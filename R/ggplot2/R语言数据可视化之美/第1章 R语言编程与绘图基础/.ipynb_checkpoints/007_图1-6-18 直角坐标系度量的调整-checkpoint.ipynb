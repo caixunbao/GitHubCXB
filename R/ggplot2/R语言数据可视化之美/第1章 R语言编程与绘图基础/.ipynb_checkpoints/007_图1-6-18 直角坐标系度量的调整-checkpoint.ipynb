{
 "cells": [
  {
   "cell_type": "code",
   "execution_count": 1,
   "metadata": {},
   "outputs": [],
   "source": [
    "options(repr.plot.width=10, repr.plot.height=5, repr.plot.pointsize=8,warn = -1)\n",
    "library(ggplot2)\n",
    "library(RColorBrewer)\n",
    "library(reshape2)"
   ]
  },
  {
   "cell_type": "code",
   "execution_count": 2,
   "metadata": {},
   "outputs": [],
   "source": [
    "df <- read.csv(\"./data/MappingAnalysis_Data.csv\",header = T)"
   ]
  },
  {
   "cell_type": "code",
   "execution_count": 10,
   "metadata": {},
   "outputs": [],
   "source": [
    "#--------------------------------------color+shape---------------------------"
   ]
  },
  {
   "cell_type": "code",
   "execution_count": 9,
   "metadata": {},
   "outputs": [
    {
     "data": {
      "image/png": "[encoded data removed]",
      "text/plain": [
       "plot without title"
      ]
     },
     "metadata": {},
     "output_type": "display_data"
    }
   ],
   "source": [
    "ggplot(data = df,aes(x = Time,y = value,fill=variable,shape=variable))+\n",
    "    geom_line()+\n",
    "    geom_point(size=4,color=\"black\")+\n",
    "    scale_fill_manual(values = c(\"#FF9641\",\"#FF5B4E\",\"#B887C3\",\"#38C25D\"))+\n",
    "    scale_shape_manual(values=c(21,22,23,24))+\n",
    "    theme_classic()+\n",
    "    theme(\n",
    "    text=element_text(size=14,color=\"black\"),\n",
    "    plot.title=element_text(size=14,family=\"myfont\",face=\"bold.italic\",hjust=.5,color=\"black\"),\n",
    "    legend.background = element_blank(),\n",
    "    legend.position=c(0.2,0.8))"
   ]
  },
  {
   "cell_type": "code",
   "execution_count": 11,
   "metadata": {},
   "outputs": [],
   "source": [
    "#--------------------------------------color+shape---------------------------"
   ]
  },
  {
   "cell_type": "code",
   "execution_count": null,
   "metadata": {},
   "outputs": [],
   "source": []
  }
 ],
 "metadata": {
  "hide_input": false,
  "kernelspec": {
   "display_name": "R",
   "language": "R",
   "name": "ir"
  },
  "language_info": {
   "codemirror_mode": "r",
   "file_extension": ".r",
   "mimetype": "text/x-r-source",
   "name": "R",
   "pygments_lexer": "r",
   "version": "3.5.3"
  },
  "toc": {
   "base_numbering": 1,
   "nav_menu": {},
   "number_sections": true,
   "sideBar": true,
   "skip_h1_title": false,
   "title_cell": "Table of Contents",
   "title_sidebar": "Contents",
   "toc_cell": false,
   "toc_position": {},
   "toc_section_display": true,
   "toc_window_display": false
  }
 },
 "nbformat": 4,
 "nbformat_minor": 2
}
