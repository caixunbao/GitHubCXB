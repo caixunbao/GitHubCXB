{
 "cells": [
  {
   "cell_type": "code",
   "execution_count": 20,
   "metadata": {},
   "outputs": [],
   "source": [
    "options(repr.plot.width=8, repr.plot.height=4, repr.plot.pointsize=8)\n",
    "library(ggplot2)\n",
    "library(gganimate);"
   ]
  },
  {
   "cell_type": "code",
   "execution_count": 24,
   "metadata": {},
   "outputs": [
    {
     "name": "stderr",
     "output_type": "stream",
     "text": [
      "                                                                              \r"
     ]
    }
   ],
   "source": [
    "ggplot(mtcars, aes(factor(cyl), mpg)) + \n",
    "  geom_boxplot() + \n",
    "  # Here comes the gganimate code\n",
    "  transition_states(\n",
    "    gear,\n",
    "    transition_length = 2,\n",
    "    state_length = 1\n",
    "  ) +\n",
    "  enter_fade() + \n",
    "  exit_shrink() +\n",
    "  ease_aes('sine-in-out')"
   ]
  },
  {
   "cell_type": "code",
   "execution_count": 25,
   "metadata": {},
   "outputs": [
    {
     "name": "stderr",
     "output_type": "stream",
     "text": [
      "                                                                              \r"
     ]
    }
   ],
   "source": [
    "library(gapminder)\n",
    "\n",
    "ggplot(gapminder, aes(gdpPercap, lifeExp, size = pop, colour = country)) +\n",
    "  geom_point(alpha = 0.7, show.legend = FALSE) +\n",
    "  scale_colour_manual(values = country_colors) +\n",
    "  scale_size(range = c(2, 12)) +\n",
    "  scale_x_log10() +\n",
    "  facet_wrap(~continent) +\n",
    "  # Here comes the gganimate specific bits\n",
    "  labs(title = 'Year: {frame_time}', x = 'GDP per capita', y = 'life expectancy') +\n",
    "  transition_time(year) +\n",
    "  ease_aes('linear')"
   ]
  },
  {
   "cell_type": "code",
   "execution_count": null,
   "metadata": {},
   "outputs": [],
   "source": []
  }
 ],
 "metadata": {
  "hide_input": false,
  "kernelspec": {
   "display_name": "R",
   "language": "R",
   "name": "ir"
  },
  "language_info": {
   "codemirror_mode": "r",
   "file_extension": ".r",
   "mimetype": "text/x-r-source",
   "name": "R",
   "pygments_lexer": "r",
   "version": "3.5.1"
  },
  "nbTranslate": {
   "displayLangs": [
    "*"
   ],
   "hotkey": "alt-t",
   "langInMainMenu": true,
   "sourceLang": "en",
   "targetLang": "fr",
   "useGoogleTranslate": true
  },
  "toc": {
   "base_numbering": 1,
   "nav_menu": {},
   "number_sections": true,
   "sideBar": true,
   "skip_h1_title": false,
   "title_cell": "Table of Contents",
   "title_sidebar": "Contents",
   "toc_cell": false,
   "toc_position": {},
   "toc_section_display": true,
   "toc_window_display": false
  }
 },
 "nbformat": 4,
 "nbformat_minor": 2
}
